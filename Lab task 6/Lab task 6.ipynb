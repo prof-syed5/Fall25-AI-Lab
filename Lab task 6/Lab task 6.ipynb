{
 "cells": [
  {
   "cell_type": "markdown",
   "id": "c22d5248",
   "metadata": {},
   "source": [
    "## Lab Task 6"
   ]
  },
  {
   "cell_type": "code",
   "execution_count": 1,
   "id": "ad88caa0",
   "metadata": {},
   "outputs": [
    {
     "name": "stdout",
     "output_type": "stream",
     "text": [
      "Found\n",
      "Visited order: ['A', 'B', 'C', 'D', 'E', 'F', 'G']\n"
     ]
    }
   ],
   "source": [
    "def bfs(graph, start, goal):\n",
    "    visited = []\n",
    "    level = [start]\n",
    "\n",
    "    while level:\n",
    "        next_level = []\n",
    "        for node in level:\n",
    "            if node not in visited:\n",
    "                visited.append(node)\n",
    "\n",
    "                if node == goal:\n",
    "                    print(\"Found\")\n",
    "                    print(\"Visited order:\", visited)\n",
    "                    return\n",
    "\n",
    "                next_level.extend(graph[node])\n",
    "        level = next_level\n",
    "\n",
    "    print(\"Not Found\")\n",
    "    print(\"Visited order:\", visited)\n",
    "\n",
    "\n",
    "graph = {\n",
    "    \"A\": [\"B\", \"C\"],\n",
    "    \"B\": [\"D\", \"E\"],\n",
    "    \"C\": [\"F\"],\n",
    "    \"D\": [],\n",
    "    \"E\": [],\n",
    "    \"F\": [\"G\"],\n",
    "    \"G\": []\n",
    "}\n",
    "\n",
    "bfs(graph, \"A\", \"G\")\n"
   ]
  },
  {
   "cell_type": "code",
   "execution_count": 2,
   "id": "64052f40",
   "metadata": {},
   "outputs": [
    {
     "name": "stdout",
     "output_type": "stream",
     "text": [
      "Found\n",
      "Visited order: ['A', 'B', 'C', 'D', 'E', 'F', 'G']\n"
     ]
    }
   ],
   "source": [
    "from collections import deque\n",
    "\n",
    "class BFS:\n",
    "    def __init__(self, graph):\n",
    "        self.graph = graph\n",
    "\n",
    "    def search(self, start, goal):\n",
    "        visited = []\n",
    "        queue = deque([start])\n",
    "\n",
    "        while queue:\n",
    "            node = queue.popleft()\n",
    "            if node not in visited:\n",
    "                visited.append(node)\n",
    "\n",
    "                if node == goal:\n",
    "                    print(\"Found\")\n",
    "                    print(\"Visited order:\", visited)\n",
    "                    return\n",
    "\n",
    "                queue.extend(self.graph[node])\n",
    "\n",
    "        print(\"Not Found\")\n",
    "        print(\"Visited order:\", visited)\n",
    "\n",
    "\n",
    "graph = {\n",
    "    \"A\": [\"B\", \"C\"],\n",
    "    \"B\": [\"D\", \"E\"],\n",
    "    \"C\": [\"F\"],\n",
    "    \"D\": [],\n",
    "    \"E\": [],\n",
    "    \"F\": [\"G\"],\n",
    "    \"G\": []\n",
    "}\n",
    "\n",
    "bfs = BFS(graph)\n",
    "bfs.search(\"A\", \"G\")\n"
   ]
  }
 ],
 "metadata": {
  "kernelspec": {
   "display_name": "base",
   "language": "python",
   "name": "python3"
  },
  "language_info": {
   "codemirror_mode": {
    "name": "ipython",
    "version": 3
   },
   "file_extension": ".py",
   "mimetype": "text/x-python",
   "name": "python",
   "nbconvert_exporter": "python",
   "pygments_lexer": "ipython3",
   "version": "3.13.5"
  }
 },
 "nbformat": 4,
 "nbformat_minor": 5
}
