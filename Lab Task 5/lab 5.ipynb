{
 "cells": [
  {
   "cell_type": "markdown",
   "id": "def1c45c",
   "metadata": {},
   "source": [
    "### Fibonacci sequence"
   ]
  },
  {
   "cell_type": "code",
   "execution_count": 1,
   "id": "31e889c3",
   "metadata": {},
   "outputs": [
    {
     "name": "stdout",
     "output_type": "stream",
     "text": [
      "Fibonacci sequence (first 15 numbers):\n",
      "0 1 1 2 3 5 8 13 21 34 55 89 144 233 377 "
     ]
    }
   ],
   "source": [
    "\n",
    "a, b = 0, 1\n",
    "\n",
    "print(\"Fibonacci sequence (first 15 numbers):\")\n",
    "for i in range(15):\n",
    "    print(a, end=\" \")\n",
    "    a, b = b, a + b\n"
   ]
  },
  {
   "cell_type": "code",
   "execution_count": 8,
   "id": "efb2b6f7",
   "metadata": {},
   "outputs": [
    {
     "name": "stdout",
     "output_type": "stream",
     "text": [
      "A B D E C F G "
     ]
    }
   ],
   "source": [
    "tree = {\n",
    "    \"A\": [\"B\", \"C\"],\n",
    "    \"B\": [\"D\", \"E\"],\n",
    "    \"C\": [\"F\"],\n",
    "    \"D\": [],\n",
    "    \"E\": [],\n",
    "    \"F\": [\"G\"],\n",
    "    \"G\": []\n",
    "}\n",
    "visited = []\n",
    "def dfs(node):\n",
    "    if node not in visited:\n",
    "        print(node, end=\" \")\n",
    "        visited.append(node)\n",
    "        for neighbor in tree[node]:\n",
    "            dfs(neighbor)\n",
    "\n",
    "dfs(\"A\")\n",
    "\n",
    "\n",
    "visited = list ()\n",
    "start = \"A\"\n",
    "goal = \"E\"\n",
    "\n",
    "def dfs (start , goal):\n",
    "    visited.append(start)\n",
    "    for i in tree[start]:\n",
    "        print ()\n",
    "        if i == goal:\n",
    "            print(\"goal\")\n",
    "            break\n",
    "        dfs(i, goal)\n",
    "\n",
    "\n",
    "    dfs (start, goal)\n",
    "    print(visited)    \n"
   ]
  }
 ],
 "metadata": {
  "kernelspec": {
   "display_name": "base",
   "language": "python",
   "name": "python3"
  },
  "language_info": {
   "codemirror_mode": {
    "name": "ipython",
    "version": 3
   },
   "file_extension": ".py",
   "mimetype": "text/x-python",
   "name": "python",
   "nbconvert_exporter": "python",
   "pygments_lexer": "ipython3",
   "version": "3.13.5"
  }
 },
 "nbformat": 4,
 "nbformat_minor": 5
}
