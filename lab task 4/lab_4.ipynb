{
 "cells": [
  {
   "cell_type": "markdown",
   "id": "48ff35ad",
   "metadata": {},
   "source": [
    "## _**Name: Syed Nalain Abbas**_\n",
    "### _**Roll no: SU92-BSAIM-F24-102**_\n",
    "### _**Lab task - 04**_"
   ]
  },
  {
   "cell_type": "markdown",
   "id": "0df0953f",
   "metadata": {},
   "source": [
    "#### _**1. Code for LUHN Algorithm**_  "
   ]
  },
  {
   "cell_type": "code",
   "execution_count": 4,
   "id": "4dfbe647",
   "metadata": {},
   "outputs": [
    {
     "name": "stdout",
     "output_type": "stream",
     "text": [
      "Valid Card Number\n"
     ]
    }
   ],
   "source": [
    "def validate_card(number):\n",
    "    number = number.replace(\" \", \"\") \n",
    "    sum = 0\n",
    "    reverse = number[::-1] \n",
    "\n",
    "    for i in range(len(reverse)):\n",
    "        digit = int(reverse[i])\n",
    "        if i % 2 == 1:\n",
    "            digit *= 2\n",
    "            if digit > 9:\n",
    "                digit -= 9\n",
    "        sum += digit\n",
    "\n",
    "    if sum % 10 == 0:\n",
    "        return \"Valid Card Number\"\n",
    "    else:\n",
    "        return \"Invalid Card Number\"\n",
    "card = input(\"Enter card number: \")\n",
    "print(validate_card(card))\n"
   ]
  },
  {
   "cell_type": "markdown",
   "id": "a3c79247",
   "metadata": {},
   "source": [
    "#### _**2. Write a python program to remove punctuations from the given string?**_ "
   ]
  },
  {
   "cell_type": "code",
   "execution_count": 9,
   "id": "2a1d03b6",
   "metadata": {},
   "outputs": [
    {
     "name": "stdout",
     "output_type": "stream",
     "text": [
      "My self Nalain\n"
     ]
    }
   ],
   "source": [
    "def discard(text):\n",
    "    punctuation = '''!()-[]{;}:'<>./?@,#$%^/&*_~'''\n",
    "    result = \"\"\n",
    "    for i in text:\n",
    "        if i not in punctuation:\n",
    "            result += i\n",
    "    return result\n",
    "\n",
    "correct = input(\"Enter sentence:\")\n",
    "print(discard(correct))"
   ]
  },
  {
   "cell_type": "markdown",
   "id": "dddea184",
   "metadata": {},
   "source": [
    "#### _**3.\tWrite a python program to sort the sentence in alphabetical order?**_"
   ]
  },
  {
   "cell_type": "code",
   "execution_count": 6,
   "id": "7df6a448",
   "metadata": {},
   "outputs": [
    {
     "name": "stdout",
     "output_type": "stream",
     "text": [
      "    aabdegooooruyy\n",
      "sorted words are: a are boy good you\n"
     ]
    }
   ],
   "source": [
    "text = \"you are a good boy\"\n",
    "\n",
    "letter_list = list(text)\n",
    "\n",
    "for i in range(len(letter_list)):\n",
    "    for j in range(i + 1, len(letter_list)):\n",
    "        first = letter_list[i]\n",
    "        second = letter_list[j]\n",
    "        if first > second:\n",
    "            letter_list[i], letter_list[j] = letter_list[j], letter_list[i]\n",
    "\n",
    "\n",
    "sorted_letters = \"\".join(letter_list)\n",
    "print(sorted_letters)\n",
    "words = text.split()  \n",
    "\n",
    "for i in range(len(words)):\n",
    "    for j in range(i + 1, len(words)):\n",
    "        if words[i] > words[j]: \n",
    "            words[i], words[j] = words[j], words[i]\n",
    "\n",
    "sorted_words = \" \".join(words)\n",
    "print(\"sorted words are:\", sorted_words)\n"
   ]
  }
 ],
 "metadata": {
  "kernelspec": {
   "display_name": "base",
   "language": "python",
   "name": "python3"
  },
  "language_info": {
   "codemirror_mode": {
    "name": "ipython",
    "version": 3
   },
   "file_extension": ".py",
   "mimetype": "text/x-python",
   "name": "python",
   "nbconvert_exporter": "python",
   "pygments_lexer": "ipython3",
   "version": "3.13.5"
  }
 },
 "nbformat": 4,
 "nbformat_minor": 5
}
